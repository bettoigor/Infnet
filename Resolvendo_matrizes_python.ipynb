{
 "cells": [
  {
   "cell_type": "markdown",
   "metadata": {},
   "source": [
    "# Usando o Python para resolver questões com matrizes"
   ]
  },
  {
   "cell_type": "markdown",
   "metadata": {},
   "source": [
    "## Importando as bibliotecas matemáticas"
   ]
  },
  {
   "cell_type": "code",
   "execution_count": 50,
   "metadata": {},
   "outputs": [],
   "source": [
    "import numpy as np\n",
    "from numpy import sin, cos, tan, pi"
   ]
  },
  {
   "cell_type": "markdown",
   "metadata": {},
   "source": [
    "### Criando a lista de constantes que serão utilizadas\n"
   ]
  },
  {
   "cell_type": "code",
   "execution_count": 119,
   "metadata": {},
   "outputs": [
    {
     "name": "stdout",
     "output_type": "stream",
     "text": [
      "Rotação da câmera: -1.5707963267948966 0 -1.5707963267948966\n",
      "P: [[1.5 ]\n",
      " [0.2 ]\n",
      " [0.25]\n",
      " [1.  ]]\n",
      "t [[0]\n",
      " [0]\n",
      " [0]]\n",
      "Parâmetros da câmera:\n",
      "Distância Focal: 0.015 \n",
      "Tamanho do Pixel 1e-05 \n",
      "Largura da Imagem: 1280.0 \\Altura da imagem: 1024.0 \\Ponto Principal: 640.0 512.0\n",
      "6.123233995736766e-17\n"
     ]
    }
   ],
   "source": [
    "# Ângulos de Rotação\n",
    "theta_x = -pi/2\n",
    "theta_y = 0\n",
    "theta_z = -pi/2\n",
    "print('Rotação da câmera:',theta_x, theta_y, theta_z)\n",
    "\n",
    "# Ponto P no mundo, em coordenadas homogêneas\n",
    "P_t = np.array([1.5, 0.2, 0.25, 1]).transpose()\n",
    "P_t.shape = (4,1)\n",
    "print('P:',P_t)\n",
    "\n",
    "# Coordenada da câmera no mundo\n",
    "t = np.array([0,0,0]).transpose()\n",
    "t.shape = (3,1)\n",
    "print('t',t)\n",
    "\n",
    "# Parâmetros da câmera\n",
    "f = 15e-3    # distância focal\n",
    "rho = 10e-6  # tamanho do pixel\n",
    "h = 1280.    # largura do sensor\n",
    "w = 1024.    # altura do sensor\n",
    "u0 = h/2     # ponto principal u\n",
    "v0 = w/2     # ponto principal v\n",
    "\n",
    "print('Parâmetros da câmera:\\nDistância Focal:',f,\n",
    "     '\\nTamanho do Pixel',rho,\n",
    "     '\\nLargura da Imagem:',h,\n",
    "     '\\Altura da imagem:',w,\n",
    "     '\\Ponto Principal:',u0,v0)\n",
    "print(cos(theta_x))"
   ]
  },
  {
   "cell_type": "markdown",
   "metadata": {},
   "source": [
    "### Criando as matrizes de Transformação de Coordenadas e de Parâmetros da Câmera"
   ]
  },
  {
   "cell_type": "code",
   "execution_count": 120,
   "metadata": {},
   "outputs": [
    {
     "name": "stdout",
     "output_type": "stream",
     "text": [
      "[[ 1.000000e+00  0.000000e+00  0.000000e+00]\n",
      " [ 0.000000e+00  6.123234e-17  1.000000e+00]\n",
      " [ 0.000000e+00 -1.000000e+00  6.123234e-17]]\n",
      "[[ 1.  0.  0.]\n",
      " [ 0.  1.  0.]\n",
      " [-0.  0.  1.]]\n",
      "[[ 6.123234e-17  1.000000e+00  0.000000e+00]\n",
      " [-1.000000e+00  6.123234e-17  0.000000e+00]\n",
      " [ 0.000000e+00  0.000000e+00  1.000000e+00]]\n",
      "[[ 6.12323400e-17  6.12323400e-17  1.00000000e+00]\n",
      " [-1.00000000e+00  3.74939946e-33  6.12323400e-17]\n",
      " [ 0.00000000e+00 -1.00000000e+00  6.12323400e-17]]\n"
     ]
    }
   ],
   "source": [
    "# Rotação em torno do eixo x\n",
    "Rx = np.zeros((3,3))\n",
    "Rx[0] = [1, 0, 0]\n",
    "Rx[1] = [0, cos(theta_x), -sin(theta_x)]\n",
    "Rx[2] = [0, sin(theta_x), cos(theta_x)]\n",
    "print(Rx)\n",
    "\n",
    "# Rotação em torno do eixo y\n",
    "Ry = np.zeros((3,3))\n",
    "Ry[0] = [cos(theta_y), 0, sin(theta_y)]\n",
    "Ry[1] = [0, 1, 0]\n",
    "Ry[2] = [-sin(theta_y), 0, cos(theta_y)]\n",
    "print(Ry)\n",
    "\n",
    "# Rotação em torno do eixo z\n",
    "Rz = np.zeros((3,3))\n",
    "Rz[0] = [cos(theta_z), -sin(theta_z), 0]\n",
    "Rz[1] = [sin(theta_z), cos(theta_z), 0]\n",
    "Rz[2] = [0, 0,1]\n",
    "print(Rz)\n",
    "\n",
    "# Matriz de rotação Rc\n",
    "Rc = np.matmul(Rz,np.matmul(Ry,Rx))\n",
    "print(Rc)"
   ]
  },
  {
   "cell_type": "code",
   "execution_count": 121,
   "metadata": {},
   "outputs": [
    {
     "name": "stdout",
     "output_type": "stream",
     "text": [
      "[[ 6.12323400e-17  6.12323400e-17  1.00000000e+00  0.00000000e+00]\n",
      " [-1.00000000e+00  3.74939946e-33  6.12323400e-17  0.00000000e+00]\n",
      " [ 0.00000000e+00 -1.00000000e+00  6.12323400e-17  0.00000000e+00]\n",
      " [ 0.00000000e+00  0.00000000e+00  0.00000000e+00  1.00000000e+00]]\n",
      "[[ 6.12323400e-17 -1.00000000e+00 -0.00000000e+00 -0.00000000e+00]\n",
      " [ 6.12323400e-17  3.74939946e-33 -1.00000000e+00 -0.00000000e+00]\n",
      " [ 1.00000000e+00  6.12323400e-17  6.12323400e-17  0.00000000e+00]\n",
      " [ 0.00000000e+00  0.00000000e+00  0.00000000e+00  1.00000000e+00]]\n"
     ]
    }
   ],
   "source": [
    "# Matriz de Transformação Tc\n",
    "Tc = np.zeros((4,4))\n",
    "Tc[0] = [Rc[0,0],Rc[0,1],Rc[0,2],t[0,0]]\n",
    "Tc[1] = [Rc[1,0],Rc[1,1],Rc[1,2],t[1,0]]\n",
    "Tc[2] = [Rc[2,0],Rc[2,1],Rc[2,2],t[2,0]]\n",
    "Tc[3] = [0,0,0,1]\n",
    "print(Tc)\n",
    "print(np.linalg.inv(Tc))"
   ]
  },
  {
   "cell_type": "code",
   "execution_count": 122,
   "metadata": {},
   "outputs": [
    {
     "name": "stdout",
     "output_type": "stream",
     "text": [
      "[[0.015 0.    0.    0.   ]\n",
      " [0.    0.015 0.    0.   ]\n",
      " [0.    0.    1.    0.   ]]\n"
     ]
    }
   ],
   "source": [
    "# Matriz da câmera C\n",
    "C = np.zeros((3,4))\n",
    "C[0] = [f, 0, 0, 0]\n",
    "C[1] = [0, f, 0, 0]\n",
    "C[2] = [0, 0, 1, 0]\n",
    "print(C)\n"
   ]
  },
  {
   "cell_type": "markdown",
   "metadata": {},
   "source": [
    "### Projetando o ponto no referencial da câmera"
   ]
  },
  {
   "cell_type": "code",
   "execution_count": 128,
   "metadata": {},
   "outputs": [
    {
     "name": "stdout",
     "output_type": "stream",
     "text": [
      "Projeção:\n",
      " [[-0.003  ]\n",
      " [-0.00375]\n",
      " [ 1.5    ]]\n"
     ]
    }
   ],
   "source": [
    "# Projeção do ponto P no referencial da câmera\n",
    "p_cam = np.matmul(C,np.matmul(np.linalg.inv(Tc),P_t))\n",
    "print('Projeção:\\n',p_cam)"
   ]
  },
  {
   "cell_type": "code",
   "execution_count": 124,
   "metadata": {},
   "outputs": [
    {
     "name": "stdout",
     "output_type": "stream",
     "text": [
      "Coodenadas não-homogêneas: [-0.002] [-0.0025]\n"
     ]
    }
   ],
   "source": [
    "# Coordenadas não-homogêneas do ponto no referencial da câmera\n",
    "x_c = p_cam[0]/p_cam[2]\n",
    "y_c = p_cam[1]/p_cam[2]\n",
    "print('Coodenadas não-homogêneas:',x_c,y_c)"
   ]
  },
  {
   "cell_type": "code",
   "execution_count": 125,
   "metadata": {},
   "outputs": [
    {
     "name": "stdout",
     "output_type": "stream",
     "text": [
      "Coordenadas em pixel: [440.] [262.]\n"
     ]
    }
   ],
   "source": [
    "# Projetando o ponto do referencial da câmera na imagem\n",
    "u = (x_c/rho) + u0\n",
    "v = (y_c/rho) + v0\n",
    "print('Coordenadas em pixel:',u, v)"
   ]
  },
  {
   "attachments": {
    "eq_1.gif": {
     "image/gif": "[encoded data removed]"
    }
   },
   "cell_type": "markdown",
   "metadata": {},
   "source": [
    "### Utilizando a Matriz da Câmera diretamente\n",
    "<img src=\"attachment:eq_1.gif\" width=\"400\"/>"
   ]
  },
  {
   "cell_type": "code",
   "execution_count": 130,
   "metadata": {},
   "outputs": [
    {
     "name": "stdout",
     "output_type": "stream",
     "text": [
      "Matriz K:\n",
      " [[1.50e+03 0.00e+00 6.40e+02]\n",
      " [0.00e+00 1.50e+03 5.12e+02]\n",
      " [0.00e+00 0.00e+00 1.00e+00]]\n"
     ]
    }
   ],
   "source": [
    "# Matriz K\n",
    "K = np.zeros((3,3))\n",
    "K[0] = [f/rho, 0, u0]\n",
    "K[1] = [0, f/rho, v0]\n",
    "K[2] = [0, 0, 1]\n",
    "print('Matriz K:\\n',K)"
   ]
  },
  {
   "cell_type": "code",
   "execution_count": 132,
   "metadata": {},
   "outputs": [
    {
     "name": "stdout",
     "output_type": "stream",
     "text": [
      "Matriz C':\n",
      " [[1. 0. 0. 0.]\n",
      " [0. 1. 0. 0.]\n",
      " [0. 0. 1. 0.]]\n"
     ]
    }
   ],
   "source": [
    "# Matriz C'\n",
    "C_ = np.zeros((3,4))\n",
    "C_[0,0] = 1\n",
    "C_[1,1] = 1\n",
    "C_[2,2] = 1\n",
    "print('Matriz C\\':\\n',C_)"
   ]
  },
  {
   "cell_type": "code",
   "execution_count": 135,
   "metadata": {},
   "outputs": [
    {
     "name": "stdout",
     "output_type": "stream",
     "text": [
      "Coordendas homogêneas em pixel:\n",
      " [[660. ]\n",
      " [393. ]\n",
      " [  1.5]]\n"
     ]
    }
   ],
   "source": [
    "# Coordenadas homogêneas\n",
    "p_cam_t = np.matmul(K,np.matmul(C_,np.matmul(np.linalg.inv(Tc),P_t)))\n",
    "print('Coordendas homogêneas em pixel:\\n',p_cam_t)"
   ]
  },
  {
   "cell_type": "code",
   "execution_count": 136,
   "metadata": {},
   "outputs": [
    {
     "name": "stdout",
     "output_type": "stream",
     "text": [
      "Coordenadas em pixel na imagem:\n",
      " [440.] [262.]\n"
     ]
    }
   ],
   "source": [
    "# Transformando em coordenadas na imagem, em pixels\n",
    "u_cam = p_cam_t[0]/p_cam_t[2]\n",
    "v_cam = p_cam_t[1]/p_cam_t[2]\n",
    "print('Coordenadas em pixel na imagem:\\n',u_cam,v_cam)"
   ]
  }
 ],
 "metadata": {
  "kernelspec": {
   "display_name": "Python 3",
   "language": "python",
   "name": "python3"
  },
  "language_info": {
   "codemirror_mode": {
    "name": "ipython",
    "version": 3
   },
   "file_extension": ".py",
   "mimetype": "text/x-python",
   "name": "python",
   "nbconvert_exporter": "python",
   "pygments_lexer": "ipython3",
   "version": "3.7.6"
  }
 },
 "nbformat": 4,
 "nbformat_minor": 4
}
